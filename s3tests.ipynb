{
 "cells": [
  {
   "cell_type": "markdown",
   "id": "cbe81edf-2000-4232-a051-d844dc991647",
   "metadata": {},
   "source": [
    "# Round-trip tests for reading and writing to and from S3\n",
    "\n",
    "Run this notebook to ensure read and writing behave as expected when using S3."
   ]
  },
  {
   "cell_type": "code",
   "execution_count": null,
   "id": "68026beb-f640-4373-9da7-3219691c960e",
   "metadata": {},
   "outputs": [],
   "source": [
    "import tempfile\n",
    "\n",
    "from pandas.testing import assert_frame_equal\n",
    "\n",
    "from arrow_pd_parser import reader, writer\n",
    "from arrow_pd_parser.utils import FileFormat\n",
    "\n",
    "import awswrangler as wr\n",
    "import pandas as pd\n",
    "import itertools"
   ]
  },
  {
   "cell_type": "markdown",
   "id": "13f53a0f-9e91-4f29-bbe6-34a856fb5478",
   "metadata": {},
   "source": [
    "First clean up the test directory."
   ]
  },
  {
   "cell_type": "code",
   "execution_count": null,
   "id": "51cae1b5-9a7d-4454-9b4d-533e24f9930a",
   "metadata": {},
   "outputs": [],
   "source": [
    "wr.s3.delete_objects(\"s3://alpha-everyone/arrow_pd_parser_testing\")"
   ]
  },
  {
   "cell_type": "markdown",
   "id": "defe03d4-d7cc-4b9a-bb47-97970ec0b11b",
   "metadata": {},
   "source": [
    "Read the test dataframe with the existing metadata."
   ]
  },
  {
   "cell_type": "code",
   "execution_count": null,
   "id": "8494c06d-cd87-4b8a-bc3a-8f97319fecd1",
   "metadata": {},
   "outputs": [],
   "source": [
    "meta_read = {\n",
    "    \"columns\": [\n",
    "        {\"name\": \"my_float\", \"type\": \"float64\", \"type_category\": \"float\"},\n",
    "        {\"name\": \"my_bool\", \"type\": \"bool_\", \"type_category\": \"boolean\"},\n",
    "        {\"name\": \"my_nullable_bool\", \"type\": \"bool_\", \"type_category\": \"boolean\"},\n",
    "        {\"name\": \"my_date\", \"type\": \"date32\", \"type_category\": \"timestamp\"},\n",
    "        {\n",
    "            \"name\": \"my_datetime\",\n",
    "            \"type\": \"timestamp(s)\",\n",
    "            \"type_category\": \"timestamp\",\n",
    "        },\n",
    "        {\"name\": \"my_int\", \"type\": \"int64\", \"type_category\": \"integer\"},\n",
    "        {\"name\": \"my_string\", \"type\": \"string\", \"type_category\": \"string\"},\n",
    "    ]\n",
    "}\n",
    "\n",
    "df = reader.read(\"tests/data/all_types.csv\", metadata=meta_read)"
   ]
  },
  {
   "cell_type": "markdown",
   "id": "daca6d6d-1674-4ea2-a608-baeeba1c1ae9",
   "metadata": {},
   "source": [
    "Now add a column `sorted_index` which can later be used to sort the dataframes to ensure the values after roundtrip read/writes are identical after sorting into the original order. This then needs a new metadata object. Write the dataframe to each format in S3."
   ]
  },
  {
   "cell_type": "code",
   "execution_count": null,
   "id": "c24160be-d5b8-4b0e-9d15-adad2981c0e6",
   "metadata": {},
   "outputs": [],
   "source": [
    "df = df.reset_index().rename(columns={'index': 'sorted_index'})\n",
    "\n",
    "meta = {\n",
    "    \"columns\": [\n",
    "        {\"name\": \"sorted_index\", \"type\": \"int64\", \"type_category\": \"integer\"},\n",
    "        {\"name\": \"my_float\", \"type\": \"float64\", \"type_category\": \"float\"},\n",
    "        {\"name\": \"my_bool\", \"type\": \"bool_\", \"type_category\": \"boolean\"},\n",
    "        {\"name\": \"my_nullable_bool\", \"type\": \"bool_\", \"type_category\": \"boolean\"},\n",
    "        {\"name\": \"my_date\", \"type\": \"date32\", \"type_category\": \"timestamp\"},\n",
    "        {\n",
    "            \"name\": \"my_datetime\",\n",
    "            \"type\": \"timestamp(s)\",\n",
    "            \"type_category\": \"timestamp\",\n",
    "        },\n",
    "        {\"name\": \"my_int\", \"type\": \"int64\", \"type_category\": \"integer\"},\n",
    "        {\"name\": \"my_string\", \"type\": \"string\", \"type_category\": \"string\"},\n",
    "    ]\n",
    "}\n",
    "\n",
    "formats = ['csv', 'parquet', 'jsonl']\n",
    "\n",
    "for f in formats:\n",
    "    writer.write(df, f\"s3://alpha-everyone/arrow_pd_parser_testing/all_types.{f}\", metadata=meta)"
   ]
  },
  {
   "cell_type": "code",
   "execution_count": null,
   "id": "cd68a664-e95a-490e-ae50-e8ff458d5c30",
   "metadata": {},
   "outputs": [],
   "source": [
    "wr.s3.list_objects(\"s3://alpha-everyone/arrow_pd_parser_testing\")"
   ]
  },
  {
   "cell_type": "markdown",
   "id": "309e0308-9383-4bb1-b762-f6e953e86a24",
   "metadata": {},
   "source": [
    "Read the dataframe from each format, write to each format, read again and make sure everything's the same after each round-trip."
   ]
  },
  {
   "cell_type": "code",
   "execution_count": null,
   "id": "5a25394e-b268-46eb-b29c-f708c9ced428",
   "metadata": {},
   "outputs": [],
   "source": [
    "wr.s3.delete_objects(\"s3://alpha-everyone/arrow_pd_parser_testing/all_types_output\")\n",
    "\n",
    "for read_format, write_format in itertools.product(formats, repeat=2):\n",
    "    try:\n",
    "        print(read_format, \"->\", write_format)\n",
    "        d = reader.read(\n",
    "            f\"s3://alpha-everyone/arrow_pd_parser_testing/all_types.{read_format}\", \n",
    "            metadata=meta\n",
    "        )\n",
    "        writer.write(\n",
    "            d,\n",
    "            f\"s3://alpha-everyone/arrow_pd_parser_testing/all_types_output_from_{read_format}.{write_format}\",\n",
    "            metadata=meta\n",
    "        )\n",
    "        final = reader.read(\n",
    "            f\"s3://alpha-everyone/arrow_pd_parser_testing/all_types_output_from_{read_format}.{write_format}\",\n",
    "            metadata=meta\n",
    "        )\n",
    "        assert_frame_equal(d, final)\n",
    "        print('Succeeded')\n",
    "    except Exception as e:\n",
    "        print('Failed')\n",
    "        print(e)"
   ]
  },
  {
   "cell_type": "markdown",
   "id": "3b550014-f1ac-4ba8-a70c-82b180a0f30f",
   "metadata": {},
   "source": [
    "Same as above, except reading and writing in chunks. The dataframes need to be sorted by the added `sorted_index` column and the the actual index reset before comparisons are made."
   ]
  },
  {
   "cell_type": "code",
   "execution_count": null,
   "id": "e1b49858-f224-497b-a174-58ebd7c8bf78",
   "metadata": {},
   "outputs": [],
   "source": [
    "wr.s3.delete_objects(\"s3://alpha-everyone/arrow_pd_parser_testing/all_types_output\")\n",
    "\n",
    "for read_format, write_format in itertools.product(formats, repeat=2):\n",
    "    try:\n",
    "        print(read_format, \"->\", write_format)\n",
    "        d = reader.read(\n",
    "            f\"s3://alpha-everyone/arrow_pd_parser_testing/all_types.{read_format}\", \n",
    "            metadata=meta,\n",
    "        )\n",
    "        d_iter = reader.read(\n",
    "            f\"s3://alpha-everyone/arrow_pd_parser_testing/all_types.{read_format}\", \n",
    "            metadata=meta,\n",
    "            chunksize=2\n",
    "        )\n",
    "        writer.write(\n",
    "            d_iter,\n",
    "            f\"s3://alpha-everyone/arrow_pd_parser_testing/all_types_output_from_{read_format}.{write_format}\",\n",
    "            metadata=meta\n",
    "        )\n",
    "        final = reader.read(\n",
    "            f\"s3://alpha-everyone/arrow_pd_parser_testing/all_types_output_from_{read_format}.{write_format}\",\n",
    "            metadata=meta\n",
    "        )\n",
    "        assert_frame_equal(\n",
    "            d.sort_values(by=\"sorted_index\").reset_index(drop=True), \n",
    "            final.sort_values(by=\"sorted_index\").reset_index(drop=True)\n",
    "        )\n",
    "        print('Succeeded')\n",
    "    except Exception as e:\n",
    "        print('Failed')\n",
    "        print(e)"
   ]
  },
  {
   "cell_type": "code",
   "execution_count": null,
   "id": "e7606f7a",
   "metadata": {},
   "outputs": [],
   "source": []
  }
 ],
 "metadata": {
  "kernelspec": {
   "display_name": "Python 3 (ipykernel)",
   "language": "python",
   "name": "python3"
  },
  "language_info": {
   "codemirror_mode": {
    "name": "ipython",
    "version": 3
   },
   "file_extension": ".py",
   "mimetype": "text/x-python",
   "name": "python",
   "nbconvert_exporter": "python",
   "pygments_lexer": "ipython3",
   "version": "3.9.12"
  }
 },
 "nbformat": 4,
 "nbformat_minor": 5
}
