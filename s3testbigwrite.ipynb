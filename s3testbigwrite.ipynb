{
 "cells": [
  {
   "cell_type": "code",
   "execution_count": 1,
   "id": "61fc9fcb",
   "metadata": {},
   "outputs": [],
   "source": [
    "import pandas as pd\n",
    "from arrow_pd_parser import reader, writer\n",
    "import awswrangler as wr"
   ]
  },
  {
   "cell_type": "code",
   "execution_count": 2,
   "id": "dc40bf73",
   "metadata": {},
   "outputs": [],
   "source": [
    "r = reader.read(\"s3://alpha-everyone/s3_data_packer_test/land/big/\",  file_format=\"csv\", chunksize=\"500MB\")"
   ]
  },
  {
   "cell_type": "code",
   "execution_count": 3,
   "id": "f3d0feea",
   "metadata": {},
   "outputs": [],
   "source": [
    "writer.write(r, \"s3://alpha-everyone/arrow_pd_parser_testing/one_big.csv\")"
   ]
  },
  {
   "cell_type": "code",
   "execution_count": null,
   "id": "5d7e74b2",
   "metadata": {},
   "outputs": [],
   "source": []
  }
 ],
 "metadata": {
  "kernelspec": {
   "display_name": "Python 3 (ipykernel)",
   "language": "python",
   "name": "python3"
  },
  "language_info": {
   "codemirror_mode": {
    "name": "ipython",
    "version": 3
   },
   "file_extension": ".py",
   "mimetype": "text/x-python",
   "name": "python",
   "nbconvert_exporter": "python",
   "pygments_lexer": "ipython3",
   "version": "3.9.12"
  }
 },
 "nbformat": 4,
 "nbformat_minor": 5
}
